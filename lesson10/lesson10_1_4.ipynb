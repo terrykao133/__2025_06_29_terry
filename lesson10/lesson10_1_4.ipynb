{
 "cells": [
  {
   "cell_type": "code",
   "execution_count": 1,
   "id": "4c8b50ec",
   "metadata": {},
   "outputs": [
    {
     "name": "stdout",
     "output_type": "stream",
     "text": [
      "資料庫連線或查詢失敗：could not translate host name \"dpg-d2bvmq3e5dus738k9b50-a.singapore-postgres.render.com.tw\" to address: Name or service not known\n",
      "\n",
      "無法取得車站資料\n"
     ]
    }
   ],
   "source": [
    "import psycopg2\n",
    "from dotenv import load_dotenv\n",
    "import os\n",
    "load_dotenv()\n",
    "\n",
    "def get_stations_names():\n",
    "    \"\"\"\n",
    "    取得台鐵車站名稱列表\n",
    "    :return: 台鐵車站名稱列表，連線失敗時回傳 None\n",
    "    \"\"\"\n",
    "    try:\n",
    "        conn = psycopg2.connect(\n",
    "            host=os.getenv(\"HOST\"),\n",
    "            database=os.getenv(\"DATABASE\"),\n",
    "            user=os.getenv(\"USER\"),\n",
    "            password=os.getenv(\"PASSWORD\"),\n",
    "            port=\"5432\"\n",
    "        )\n",
    "\n",
    "        cursor = conn.cursor()\n",
    "        query = \"\"\"\n",
    "        SELECT name\n",
    "        FROM \"台鐵車站資訊\";\n",
    "        \"\"\"\n",
    "        cursor.execute(query)\n",
    "        result = cursor.fetchall()\n",
    "\n",
    "        # 使用 list comprehension 簡化程式碼\n",
    "        result_list = [station[0] for station in result]\n",
    "\n",
    "        return result_list\n",
    "\n",
    "    except psycopg2.Error as e:\n",
    "        print(f\"資料庫連線或查詢失敗：{e}\")\n",
    "        return None\n",
    "    except Exception as e:\n",
    "        print(f\"發生未預期的錯誤：{e}\")\n",
    "        return None\n",
    "    finally:\n",
    "        # 確保資源正確釋放\n",
    "        if 'cursor' in locals():\n",
    "            cursor.close()\n",
    "        if 'conn' in locals():\n",
    "            conn.close()\n",
    "\n",
    "\n",
    "def main():\n",
    "    results = get_stations_names()\n",
    "    if results:\n",
    "        for station in results:\n",
    "            print(station)\n",
    "    else:\n",
    "        print(\"無法取得車站資料\")\n",
    "\n",
    "if __name__ == \"__main__\":\n",
    "    main()"
   ]
  }
 ],
 "metadata": {
  "kernelspec": {
   "display_name": "pydev",
   "language": "python",
   "name": "python3"
  },
  "language_info": {
   "codemirror_mode": {
    "name": "ipython",
    "version": 3
   },
   "file_extension": ".py",
   "mimetype": "text/x-python",
   "name": "python",
   "nbconvert_exporter": "python",
   "pygments_lexer": "ipython3",
   "version": "3.10.18"
  }
 },
 "nbformat": 4,
 "nbformat_minor": 5
}
