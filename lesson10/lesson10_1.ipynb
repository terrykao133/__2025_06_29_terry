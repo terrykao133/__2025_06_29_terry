{
 "cells": [
  {
   "cell_type": "code",
   "execution_count": 7,
   "id": "b45bf311",
   "metadata": {},
   "outputs": [
    {
     "name": "stdout",
     "output_type": "stream",
     "text": [
      "成功連接到資料庫！\n",
      "台鐵車站資訊： [(243,)]\n"
     ]
    }
   ],
   "source": [
    "import psycopg2\n",
    "from dotenv import load_dotenv\n",
    "import os\n",
    "load_dotenv()\n",
    "\n",
    "def execute_query(connection, query):\n",
    "    cursor = connection.cursor()\n",
    "    cursor.execute(query)\n",
    "    result = cursor.fetchall()\n",
    "    cursor.close()\n",
    "    return result\n",
    "\n",
    "def create_connection():\n",
    "    conn = psycopg2.connect(\n",
    "        host=os.getenv(\"HOST\"),\n",
    "        database=os.getenv(\"DATABASE\"),\n",
    "        user=os.getenv(\"USER\"),\n",
    "        password=os.getenv(\"PASSWORD\"),\n",
    "        port=\"5432\"\n",
    "    )\n",
    "    return conn\n",
    "\n",
    "\n",
    "def main():\n",
    "    conn = create_connection()\n",
    "    if conn:\n",
    "        print(\"成功連接到資料庫！\")\n",
    "        query = \"\"\"\n",
    "        SELECT count(*) AS \"筆數\"\n",
    "        FROM \"台鐵車站資訊\";\n",
    "        \"\"\"\n",
    "        result = execute_query(conn, query)\n",
    "        print(\"台鐵車站資訊：\", result)\n",
    "        conn.close()\n",
    "    else:\n",
    "        print(\"無法連接到資料庫，請檢查設定。\")\n",
    "        return\n",
    "\n",
    "if __name__ == \"__main__\":\n",
    "    main()"
   ]
  }
 ],
 "metadata": {
  "kernelspec": {
   "display_name": "pydev",
   "language": "python",
   "name": "python3"
  },
  "language_info": {
   "codemirror_mode": {
    "name": "ipython",
    "version": 3
   },
   "file_extension": ".py",
   "mimetype": "text/x-python",
   "name": "python",
   "nbconvert_exporter": "python",
   "pygments_lexer": "ipython3",
   "version": "3.10.18"
  }
 },
 "nbformat": 4,
 "nbformat_minor": 5
}
