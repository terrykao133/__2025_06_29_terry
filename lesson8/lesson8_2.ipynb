{
 "cells": [
  {
   "cell_type": "code",
   "execution_count": 1,
   "id": "a1078d61",
   "metadata": {},
   "outputs": [
    {
     "name": "stdout",
     "output_type": "stream",
     "text": [
      "<class 'list'>\n",
      "[1, 2, 3, 4, 5, 6]\n"
     ]
    }
   ],
   "source": [
    "#請建立一個範本list\n",
    "my_list = [1, 2, 3, 4, 5]\n",
    "print(type(my_list))\n",
    "my_list.append(6)\n",
    "print(my_list)"
   ]
  },
  {
   "cell_type": "code",
   "execution_count": 2,
   "id": "ae3679cb",
   "metadata": {},
   "outputs": [
    {
     "name": "stdout",
     "output_type": "stream",
     "text": [
      "[1, 2, 3, 4, 5, 6]\n",
      "[1, 3, 4, 5, 6]\n",
      "[1, 10, 3, 4, 5, 6]\n",
      "[1, 3, 4, 5, 6, 10]\n",
      "[10, 6, 5, 4, 3, 1]\n",
      "[]\n"
     ]
    }
   ],
   "source": [
    "#請建立一個範本list\n",
    "my_list = [1, 2, 3, 4, 5]\n",
    "#並且建立常用的實體方法\n",
    "my_list.append(6)\n",
    "print(my_list)\n",
    "my_list.remove(2)\n",
    "print(my_list)\n",
    "my_list.insert(1, 10)\n",
    "print(my_list)\n",
    "my_list.sort()\n",
    "print(my_list)\n",
    "my_list.reverse()\n",
    "print(my_list)\n",
    "my_list.clear()\n",
    "print(my_list)"
   ]
  },
  {
   "cell_type": "code",
   "execution_count": 9,
   "id": "811d3f81",
   "metadata": {},
   "outputs": [
    {
     "name": "stdout",
     "output_type": "stream",
     "text": [
      "2\n",
      "4\n",
      "6\n",
      "8\n",
      "10\n",
      "\n",
      "=============\n",
      "\n",
      "A\n",
      "p\n",
      "p\n",
      "l\n",
      "e\n"
     ]
    }
   ],
   "source": [
    "#我有一個list,要使用for迴圈,請將list中的每個元素乘以2\n",
    "my_list = [1, 2, 3, 4, 5]\n",
    "for i in my_list:\n",
    "    print(i * 2)\n",
    "\n",
    "\n",
    "print(\"\\n=============\\n\");\n",
    "\n",
    "for word in \"Apple\":\n",
    "    print(word)"
   ]
  },
  {
   "cell_type": "code",
   "execution_count": 12,
   "id": "48508a29",
   "metadata": {},
   "outputs": [],
   "source": [
    "#請建立10個國家code與國家名稱的字典\n",
    "country_dict = {\n",
    "    'TW': 'Taiwan',\n",
    "    'US': 'United States',\n",
    "    'JP': 'Japan',\n",
    "    'CN': 'China',\n",
    "    'KR': 'South Korea',\n",
    "    'FR': 'France',\n",
    "    'DE': 'Germany',\n",
    "    'IT': 'Italy',\n",
    "    'GB': 'United Kingdom',\n",
    "    'IN': 'India'\n",
    "}\n"
   ]
  },
  {
   "cell_type": "code",
   "execution_count": 13,
   "id": "1c4d6f49",
   "metadata": {},
   "outputs": [
    {
     "name": "stdout",
     "output_type": "stream",
     "text": [
      "TW Taiwan\n",
      "US United States\n",
      "JP Japan\n",
      "CN China\n",
      "KR South Korea\n",
      "FR France\n",
      "DE Germany\n",
      "IT Italy\n",
      "GB United Kingdom\n",
      "IN India\n"
     ]
    }
   ],
   "source": [
    "for code in country_dict.keys():\n",
    "    print(code, country_dict[code])"
   ]
  },
  {
   "cell_type": "code",
   "execution_count": 14,
   "id": "18412b5b",
   "metadata": {},
   "outputs": [
    {
     "name": "stdout",
     "output_type": "stream",
     "text": [
      "Taiwan\n",
      "United States\n",
      "Japan\n",
      "China\n",
      "South Korea\n",
      "France\n",
      "Germany\n",
      "Italy\n",
      "United Kingdom\n",
      "India\n"
     ]
    }
   ],
   "source": [
    "for country in country_dict.values():\n",
    "    print(country)"
   ]
  },
  {
   "cell_type": "code",
   "execution_count": 17,
   "id": "5ccad472",
   "metadata": {},
   "outputs": [
    {
     "name": "stdout",
     "output_type": "stream",
     "text": [
      "('TW', 'Taiwan')\n",
      "('US', 'United States')\n",
      "('JP', 'Japan')\n",
      "('CN', 'China')\n",
      "('KR', 'South Korea')\n",
      "('FR', 'France')\n",
      "('DE', 'Germany')\n",
      "('IT', 'Italy')\n",
      "('GB', 'United Kingdom')\n",
      "('IN', 'India')\n"
     ]
    }
   ],
   "source": [
    "for item in country_dict.items():\n",
    "    print(item)"
   ]
  },
  {
   "cell_type": "code",
   "execution_count": 16,
   "id": "ab51a335",
   "metadata": {},
   "outputs": [
    {
     "name": "stdout",
     "output_type": "stream",
     "text": [
      "TW Taiwan\n",
      "US United States\n",
      "JP Japan\n",
      "CN China\n",
      "KR South Korea\n",
      "FR France\n",
      "DE Germany\n",
      "IT Italy\n",
      "GB United Kingdom\n",
      "IN India\n"
     ]
    }
   ],
   "source": [
    "for key, value in country_dict.items():\n",
    "    print(key, value)"
   ]
  }
 ],
 "metadata": {
  "kernelspec": {
   "display_name": "pydev",
   "language": "python",
   "name": "python3"
  },
  "language_info": {
   "codemirror_mode": {
    "name": "ipython",
    "version": 3
   },
   "file_extension": ".py",
   "mimetype": "text/x-python",
   "name": "python",
   "nbconvert_exporter": "python",
   "pygments_lexer": "ipython3",
   "version": "3.10.18"
  }
 },
 "nbformat": 4,
 "nbformat_minor": 5
}
