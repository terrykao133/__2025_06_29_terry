{
 "cells": [
  {
   "cell_type": "code",
   "execution_count": 1,
   "id": "22b6cc0e",
   "metadata": {},
   "outputs": [
    {
     "name": "stdout",
     "output_type": "stream",
     "text": [
      "SELECT \"stationCode\",name,\"stationAddrTw\",日期,進站人數,出站人數\n",
      "FROM \"台鐵車站資訊\" LEFT JOIN \"每日各站進出站人數\" ON \"stationCode\" = \"車站代碼\"\n",
      "WHERE \"stationAddrTw\" LIKE '%臺北市%';\n"
     ]
    }
   ],
   "source": [
    "sql = \"\"\"SELECT \"stationCode\",name,\"stationAddrTw\",日期,進站人數,出站人數\n",
    "FROM \"台鐵車站資訊\" LEFT JOIN \"每日各站進出站人數\" ON \"stationCode\" = \"車站代碼\"\n",
    "WHERE \"stationAddrTw\" LIKE '%臺北市%';\"\"\"\n",
    "\n",
    "print(sql)"
   ]
  },
  {
   "cell_type": "code",
   "execution_count": 2,
   "id": "51175d9a",
   "metadata": {},
   "outputs": [
    {
     "name": "stdout",
     "output_type": "stream",
     "text": [
      "<class 'int'>\n",
      "<class 'float'>\n",
      "<class 'str'>\n",
      "===========\n",
      "10\n",
      "15.0\n",
      "50\n"
     ]
    }
   ],
   "source": [
    "#建立變數\n",
    "n = 5\n",
    "m = 10.0\n",
    "x = '5'\n",
    "print(type(n))\n",
    "print(type(m))\n",
    "print(type(x))\n",
    "\n",
    "print(\"===========\")\n",
    "\n",
    "n = 10\n",
    "m = 15.0\n",
    "x = '50'\n",
    "print(n)\n",
    "print(m)\n",
    "print(x)"
   ]
  },
  {
   "cell_type": "code",
   "execution_count": 3,
   "id": "4ac58fde",
   "metadata": {},
   "outputs": [
    {
     "data": {
      "text/plain": [
       "tuple"
      ]
     },
     "execution_count": 3,
     "metadata": {},
     "output_type": "execute_result"
    }
   ],
   "source": [
    "#建立tuple\n",
    "student1 = (87, 76, 65, 78, 92)\n",
    "student1\n",
    "type(student1)"
   ]
  },
  {
   "cell_type": "code",
   "execution_count": 4,
   "id": "686e3c60",
   "metadata": {},
   "outputs": [
    {
     "data": {
      "text/plain": [
       "92"
      ]
     },
     "execution_count": 4,
     "metadata": {},
     "output_type": "execute_result"
    }
   ],
   "source": [
    "#建立list\n",
    "student2 = [87, 76, 65, 78, 92]\n",
    "student2\n",
    "type(student2)\n",
    "\n",
    "#使用subscript取出元素值\n",
    "student2[0]\n",
    "student2[1]\n",
    "student2[2]\n",
    "student2[3]\n",
    "student2[4]\n",
    "#student2[5] # 超出索引會出錯"
   ]
  },
  {
   "cell_type": "code",
   "execution_count": 1,
   "id": "4c108e0f",
   "metadata": {},
   "outputs": [
    {
     "data": {
      "text/plain": [
       "87"
      ]
     },
     "execution_count": 1,
     "metadata": {},
     "output_type": "execute_result"
    }
   ],
   "source": [
    "#建立dict(dictionary)\n",
    "student3 = {'chinese':67,'english':75,'math':89,'history':87,'discovery':92} #mapping(映射資料)\n",
    "type(student3)\n",
    "#使用subscript取出值\n",
    "student3['math']\n",
    "student3['history']"
   ]
  },
  {
   "cell_type": "code",
   "execution_count": 2,
   "id": "adb30485",
   "metadata": {},
   "outputs": [
    {
     "data": {
      "text/plain": [
       "92"
      ]
     },
     "execution_count": 2,
     "metadata": {},
     "output_type": "execute_result"
    }
   ],
   "source": [
    "#tuple的拆解法\n",
    "m, n = 78, 92\n",
    "m\n",
    "n"
   ]
  },
  {
   "cell_type": "code",
   "execution_count": 4,
   "id": "a5336092",
   "metadata": {},
   "outputs": [],
   "source": [
    "#建立4個學生的list\n",
    "student1 = [87, 76, 65, 78, 92]    #Sequence(序列資料)\n",
    "student2 = [88, 77, 66, 79, 93]\n",
    "student3 = [89, 78, 67, 80, 94]\n",
    "student4 = [90, 79, 68, 81, 95]\n"
   ]
  },
  {
   "cell_type": "code",
   "execution_count": null,
   "id": "eb2156e2",
   "metadata": {},
   "outputs": [],
   "source": [
    "#建立4個學生的dict\n",
    "student5 = {'chinese': 87, 'english': 76, 'math': 65, 'history': 78, 'discovery': 92}\n",
    "student6 = {'chinese': 88, 'english': 77, 'math': 66, 'history': 79, 'discovery': 93}\n",
    "student7 = {'chinese': 89, 'english': 78, 'math': 67, 'history': 80, 'discovery': 94}\n",
    "student8 = {'chinese': 90, 'english': 79, 'math': 68, 'history': 81, 'discovery': 95}"
   ]
  },
  {
   "cell_type": "code",
   "execution_count": 7,
   "id": "54386eaf",
   "metadata": {},
   "outputs": [
    {
     "data": {
      "text/plain": [
       "89"
      ]
     },
     "execution_count": 7,
     "metadata": {},
     "output_type": "execute_result"
    }
   ],
   "source": [
    "#建立students的list,包含4個學生的dict\n",
    "students = [student5, student6, student7, student8] #Sequence(序列資料)\n",
    "students\n",
    "\n",
    "students[0]['chinese']\n",
    "students[2]['chinese']"
   ]
  }
 ],
 "metadata": {
  "kernelspec": {
   "display_name": "pydev",
   "language": "python",
   "name": "python3"
  },
  "language_info": {
   "codemirror_mode": {
    "name": "ipython",
    "version": 3
   },
   "file_extension": ".py",
   "mimetype": "text/x-python",
   "name": "python",
   "nbconvert_exporter": "python",
   "pygments_lexer": "ipython3",
   "version": "3.10.18"
  }
 },
 "nbformat": 4,
 "nbformat_minor": 5
}
